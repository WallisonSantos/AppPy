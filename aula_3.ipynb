{
 "cells": [
  {
   "cell_type": "markdown",
   "metadata": {
    "id": "XBNwxYDbLRdN"
   },
   "source": [
    "# Aula 3 - Modelo de Investimento"
   ]
  },
  {
   "cell_type": "code",
   "execution_count": null,
   "metadata": {},
   "outputs": [],
   "source": [
    "#!pip install quantstats"
   ]
  },
  {
   "cell_type": "code",
   "execution_count": null,
   "metadata": {},
   "outputs": [],
   "source": [
    "from pandas_datareader import data as pdr\n",
    "import pandas as pd\n",
    "import numpy as np\n",
    "import matplotlib.pyplot as plt\n",
    "import seaborn as sns\n",
    "from dateutil.relativedelta import relativedelta\n",
    "import quantstats as qs"
   ]
  },
  {
   "cell_type": "markdown",
   "metadata": {
    "id": "pP5TeLHrzo7n"
   },
   "source": [
    "# Como funciona a lógica do programa?\n",
    "\n",
    "* Pegar composição do Ibovespa desde 2015. (Definir universo investível)\n",
    "* Criar a lista de códigos de negociação de todas as empresas que passaram no Ibovespa desde 2015.\n",
    "* Puxar as cotações dessa lista de códigos de negociação. \n",
    "* Tratar os dados de cotação: Lidar com dados faltantes, mudar para a frequência mensal e correção/extração das datas. \n",
    "* Calcular retornos mensais e 6 meses (retorno da carteira e indicador momento 6 meses).\n",
    "* Tratar dados de retorno e preço para um formato mais amigável. \n",
    "* Calcular retornos do modelo.\n",
    "* Puxar dados do Ibovespa.\n",
    "* Tretar os dados e calcular retorno mensal do Ibovespa.\n",
    "* Visualizar retornos e estatística mensal do modelo e do Ibovespa.\n",
    "* Calcular retorno ano a ano.\n",
    "* Calcular retorno acumulado.\n",
    "* Visualizar retorno acumulado."
   ]
  },
  {
   "cell_type": "markdown",
   "metadata": {},
   "source": [
    "### A minha carteira pessoal está em Factor Investing"
   ]
  },
  {
   "cell_type": "code",
   "execution_count": null,
   "metadata": {
    "colab": {
     "base_uri": "https://localhost:8080/",
     "height": 485
    },
    "executionInfo": {
     "elapsed": 715,
     "status": "ok",
     "timestamp": 1660417238096,
     "user": {
      "displayName": "Brenno Sullivan",
      "userId": "01078816714846686035"
     },
     "user_tz": 180
    },
    "id": "d23AKm4m49OF",
    "outputId": "93b88e65-ef55-4921-e22b-52e752730f6f"
   },
   "outputs": [],
   "source": [
    "tickers = pd.read_excel(\"composicao_ibov.xlsx\")\n",
    "\n",
    "tickers"
   ]
  },
  {
   "cell_type": "code",
   "execution_count": null,
   "metadata": {
    "colab": {
     "base_uri": "https://localhost:8080/"
    },
    "executionInfo": {
     "elapsed": 275,
     "status": "ok",
     "timestamp": 1660417240973,
     "user": {
      "displayName": "Brenno Sullivan",
      "userId": "01078816714846686035"
     },
     "user_tz": 180
    },
    "id": "iGef880gLRrx",
    "outputId": "fbe28677-0b3b-4484-ab05-cee7ba31fb50"
   },
   "outputs": [],
   "source": [
    "#pegando lista de tickers\n",
    "\n",
    "intervalo_tempo = tickers.columns\n",
    "\n",
    "lista_tickers = []\n",
    "\n",
    "for mes in intervalo_tempo:\n",
    "\n",
    "    tickers_no_ano = tickers[mes]\n",
    "\n",
    "    tickers_no_ano = tickers_no_ano.dropna()\n",
    "\n",
    "    tickers_no_ano = tickers_no_ano + \".SA\"\n",
    "\n",
    "    lista_tickers.append(tickers_no_ano)\n",
    "\n",
    "\n",
    "lista_tickers_finais = pd.concat(lista_tickers)\n",
    "\n",
    "lista_tickers_finais = lista_tickers_finais.drop_duplicates()\n",
    "\n",
    "lista_tickers_finais = list(lista_tickers_finais)\n",
    "\n",
    "lista_tickers_finais"
   ]
  },
  {
   "cell_type": "code",
   "execution_count": null,
   "metadata": {
    "colab": {
     "base_uri": "https://localhost:8080/"
    },
    "executionInfo": {
     "elapsed": 89605,
     "status": "ok",
     "timestamp": 1660417333085,
     "user": {
      "displayName": "Brenno Sullivan",
      "userId": "01078816714846686035"
     },
     "user_tz": 180
    },
    "id": "Ow7-orz9LRx4",
    "outputId": "57ac8f32-2320-478e-e1aa-a3b6320d2ea2"
   },
   "outputs": [],
   "source": [
    "#puxando dados de cotação ajustada\n",
    "\n",
    "dados_cotacoes = pdr.get_data_yahoo(symbols = lista_tickers_finais, start=\"2015-06-30\", end= \"2022-08-12\" )['Adj Close']"
   ]
  },
  {
   "cell_type": "code",
   "execution_count": null,
   "metadata": {
    "colab": {
     "base_uri": "https://localhost:8080/",
     "height": 693
    },
    "executionInfo": {
     "elapsed": 289,
     "status": "ok",
     "timestamp": 1660417335410,
     "user": {
      "displayName": "Brenno Sullivan",
      "userId": "01078816714846686035"
     },
     "user_tz": 180
    },
    "id": "laoOu59VLR6T",
    "outputId": "f6816d4a-b643-4a0d-f31d-8f5aa2b3ea26"
   },
   "outputs": [],
   "source": [
    "#resample pra mensal\n",
    "\n",
    "ultima_linha = dados_cotacoes.iloc[-1:]\n",
    "dados_cotacoes_mensais = dados_cotacoes.resample(\"M\").last()\n",
    "\n",
    "dados_cotacoes_mensais"
   ]
  },
  {
   "cell_type": "code",
   "execution_count": null,
   "metadata": {
    "colab": {
     "base_uri": "https://localhost:8080/",
     "height": 693
    },
    "executionInfo": {
     "elapsed": 263,
     "status": "ok",
     "timestamp": 1660417338970,
     "user": {
      "displayName": "Brenno Sullivan",
      "userId": "01078816714846686035"
     },
     "user_tz": 180
    },
    "id": "8dciCXNzBCre",
    "outputId": "44c7205a-b6d4-4d0a-ec98-97b0ee24a1c0"
   },
   "outputs": [],
   "source": [
    "#adicionando uma linha\n",
    "dados_cotacoes_mensais = dados_cotacoes_mensais.append(ultima_linha)\n",
    "\n",
    "#excluindo uma linha\n",
    "dados_cotacoes_mensais = dados_cotacoes_mensais.drop(\"2022-08-31\", axis = 0)\n",
    "\n",
    "\n",
    "dados_cotacoes_mensais"
   ]
  },
  {
   "cell_type": "code",
   "execution_count": null,
   "metadata": {
    "colab": {
     "base_uri": "https://localhost:8080/"
    },
    "executionInfo": {
     "elapsed": 2,
     "status": "ok",
     "timestamp": 1660417341783,
     "user": {
      "displayName": "Brenno Sullivan",
      "userId": "01078816714846686035"
     },
     "user_tz": 180
    },
    "id": "J3WWBvqTLSA9",
    "outputId": "a9589586-82db-4747-bc45-4b5256b05321"
   },
   "outputs": [],
   "source": [
    "#extraindo datas das carteiras\n",
    "\n",
    "datas_carteiras = list(dados_cotacoes_mensais.index)[6:]\n",
    "datas_carteiras\n"
   ]
  },
  {
   "cell_type": "code",
   "execution_count": null,
   "metadata": {
    "colab": {
     "base_uri": "https://localhost:8080/",
     "height": 693
    },
    "executionInfo": {
     "elapsed": 911,
     "status": "ok",
     "timestamp": 1660417345543,
     "user": {
      "displayName": "Brenno Sullivan",
      "userId": "01078816714846686035"
     },
     "user_tz": 180
    },
    "id": "IJoEgMF-QojS",
    "outputId": "2f12152f-78c4-437c-b687-4348cca69818"
   },
   "outputs": [],
   "source": [
    "#preenchendo NAs com zero para calcular retorno\n",
    "\n",
    "dados_cotacoes_mensais = dados_cotacoes_mensais.fillna(0)\n",
    "\n",
    "dados_cotacoes_mensais"
   ]
  },
  {
   "cell_type": "code",
   "execution_count": null,
   "metadata": {
    "colab": {
     "base_uri": "https://localhost:8080/",
     "height": 727
    },
    "executionInfo": {
     "elapsed": 608,
     "status": "ok",
     "timestamp": 1660417348604,
     "user": {
      "displayName": "Brenno Sullivan",
      "userId": "01078816714846686035"
     },
     "user_tz": 180
    },
    "id": "56pqu-9tLSIZ",
    "outputId": "ad514874-9474-44ba-a42d-0cdb200f03cb"
   },
   "outputs": [],
   "source": [
    "#calculando retorno mensal\n",
    "\n",
    "for i, nome_empresa in enumerate(dados_cotacoes_mensais.columns):\n",
    "\n",
    "    if i == 0:\n",
    "\n",
    "      retornos = dados_cotacoes_mensais[nome_empresa].pct_change()\n",
    "\n",
    "      retornos = retornos.replace([np.inf, -np.inf, -1], 0)\n",
    "\n",
    "      df_retornos = pd.DataFrame(data = {nome_empresa: retornos}, index = dados_cotacoes_mensais.index)\n",
    "\n",
    "    else:\n",
    "    \n",
    "      df_retornos[nome_empresa] = dados_cotacoes_mensais[nome_empresa].pct_change().replace([np.inf, -np.inf, -1], 0)\n",
    "\n",
    "\n",
    "df_retornos"
   ]
  },
  {
   "cell_type": "code",
   "execution_count": null,
   "metadata": {
    "colab": {
     "base_uri": "https://localhost:8080/",
     "height": 696
    },
    "executionInfo": {
     "elapsed": 300,
     "status": "ok",
     "timestamp": 1660417352075,
     "user": {
      "displayName": "Brenno Sullivan",
      "userId": "01078816714846686035"
     },
     "user_tz": 180
    },
    "id": "B8kJr_8deoKt",
    "outputId": "d8ddd0c4-8965-40b4-877a-6a90840300b2"
   },
   "outputs": [],
   "source": [
    "#calculando retorno 6 meses\n",
    "\n",
    "for i, nome_empresa in enumerate(dados_cotacoes_mensais.columns):\n",
    "\n",
    "    if i == 0:\n",
    "\n",
    "      retornos = dados_cotacoes_mensais[nome_empresa].pct_change(periods = 6)\n",
    "\n",
    "      retornos = retornos.replace([np.inf, -np.inf, -1], 0)\n",
    "\n",
    "      df_retornos_6m = pd.DataFrame(data = {nome_empresa: retornos}, index = dados_cotacoes_mensais.index)\n",
    "\n",
    "    else:\n",
    "    \n",
    "      df_retornos_6m[nome_empresa] = dados_cotacoes_mensais[nome_empresa].pct_change(periods = 6).replace([np.inf, -np.inf, -1], 0)\n",
    "\n",
    "\n",
    "df_retornos_6m.head(10)"
   ]
  },
  {
   "cell_type": "code",
   "execution_count": null,
   "metadata": {
    "colab": {
     "base_uri": "https://localhost:8080/",
     "height": 693
    },
    "executionInfo": {
     "elapsed": 295,
     "status": "ok",
     "timestamp": 1660417358398,
     "user": {
      "displayName": "Brenno Sullivan",
      "userId": "01078816714846686035"
     },
     "user_tz": 180
    },
    "id": "UQzYQAWiXgw3",
    "outputId": "54a01a5e-a162-489e-b42b-d9ec15563d73"
   },
   "outputs": [],
   "source": [
    "df_retornos = df_retornos.loc[\"2015-12-31\": ]\n",
    "df_retornos_6m = df_retornos_6m.loc[\"2015-12-31\": ]\n",
    "\n",
    "df_retornos_6m"
   ]
  },
  {
   "cell_type": "code",
   "execution_count": null,
   "metadata": {
    "id": "28lQcWOlYVJY"
   },
   "outputs": [],
   "source": [
    "dados_cotacoes_mensais = dados_cotacoes_mensais.reset_index()\n",
    "\n",
    "df_retornos = df_retornos.reset_index()\n",
    "df_retornos_6m = df_retornos_6m.reset_index()\n",
    "\n",
    "\n",
    "dados_cotacoes_mensais = pd.melt(dados_cotacoes_mensais, id_vars= \"Date\", var_name= \"cod\", value_name= \"cotacao\")\n",
    "df_retornos = pd.melt(df_retornos, id_vars= \"Date\", var_name= \"cod\", value_name= \"retorno_1m\")\n",
    "df_retornos_6m = pd.melt(df_retornos_6m, id_vars= \"Date\", var_name= \"cod\", value_name= \"retorno_6m\")"
   ]
  },
  {
   "cell_type": "code",
   "execution_count": null,
   "metadata": {
    "colab": {
     "base_uri": "https://localhost:8080/",
     "height": 424
    },
    "executionInfo": {
     "elapsed": 2,
     "status": "ok",
     "timestamp": 1660417363117,
     "user": {
      "displayName": "Brenno Sullivan",
      "userId": "01078816714846686035"
     },
     "user_tz": 180
    },
    "id": "V_ElMoQcZrnZ",
    "outputId": "d5436f7c-38e4-4559-8113-38a6d35bdb91"
   },
   "outputs": [],
   "source": [
    "dados_cotacoes_mensais = dados_cotacoes_mensais.dropna()\n",
    "df_retornos = df_retornos.dropna()\n",
    "df_retornos_6m = df_retornos_6m.dropna()\n",
    "\n",
    "dados_cotacoes_mensais"
   ]
  },
  {
   "cell_type": "code",
   "execution_count": null,
   "metadata": {
    "colab": {
     "base_uri": "https://localhost:8080/",
     "height": 424
    },
    "executionInfo": {
     "elapsed": 718,
     "status": "ok",
     "timestamp": 1660417366610,
     "user": {
      "displayName": "Brenno Sullivan",
      "userId": "01078816714846686035"
     },
     "user_tz": 180
    },
    "id": "ZwT2pz-iR61z",
    "outputId": "9ca17c35-832b-4a4f-9961-b425423994e6"
   },
   "outputs": [],
   "source": [
    "lista_retornos = []\n",
    "\n",
    "#Logica: Pega os codigos de negociação -> Acha os retornos 6M -> Filtra os 10 maiores -> Calcula o retorno de 1 mês dessa carteira -> Repete\n",
    "\n",
    "for indice, mes in enumerate(datas_carteiras):\n",
    "\n",
    "    #pegando empresas do ibov mes a mes\n",
    "\n",
    "    empresas_ibov = tickers[intervalo_tempo[indice]]\n",
    "\n",
    "    empresas_ibov = list(empresas_ibov.dropna().values) \n",
    "\n",
    "    empresas_ibov = [empresa + \".SA\" for empresa in empresas_ibov] #quero x a cada y\n",
    "\n",
    "    #pegando retornos 6 meses pra criar o ranking\n",
    "\n",
    "    retornos_empresas_ibov_esse_ano = df_retornos_6m[(df_retornos_6m[\"cod\"].isin(empresas_ibov)) & (df_retornos_6m['Date'] == mes)]\n",
    "\n",
    "    #pegando os 10 maiores retornos\n",
    "\n",
    "    dez_maiores_retornos = retornos_empresas_ibov_esse_ano.sort_values(by = \"retorno_6m\", ascending = False).head(10)\n",
    "\n",
    "    tickers_dez_maiores_retornos = dez_maiores_retornos[\"cod\"].to_list()\n",
    "\n",
    "    #calculando retorno da carteira \n",
    "\n",
    "    if indice != (len(datas_carteiras) - 1): #A carteira de sexta não tem retorno\n",
    "\n",
    "      retornos_12m_seguintes = df_retornos[(df_retornos[\"cod\"].isin(tickers_dez_maiores_retornos)) & (df_retornos['Date'] == datas_carteiras[indice + 1])]\n",
    "\n",
    "      retorno_mes = np.mean(retornos_12m_seguintes['retorno_1m'])\n",
    "\n",
    "      df_retorno_modelo = pd.DataFrame(data = {\"retorno\": retorno_mes}, index = [(mes + relativedelta(months=1))])\n",
    "\n",
    "      lista_retornos.append(df_retorno_modelo)\n",
    "\n",
    "\n",
    "retornos_modelo = pd.concat(lista_retornos)\n",
    "\n",
    "retornos_modelo"
   ]
  },
  {
   "cell_type": "code",
   "execution_count": null,
   "metadata": {
    "colab": {
     "base_uri": "https://localhost:8080/"
    },
    "executionInfo": {
     "elapsed": 1084,
     "status": "ok",
     "timestamp": 1660417374467,
     "user": {
      "displayName": "Brenno Sullivan",
      "userId": "01078816714846686035"
     },
     "user_tz": 180
    },
    "id": "ZZwL1AVRxYRq",
    "outputId": "51117c15-bd73-43a8-a422-14cc2c4466d4"
   },
   "outputs": [],
   "source": [
    "#pegando dados do ibov\n",
    "\n",
    "ibovespa = pdr.get_data_yahoo(symbol = '^BVSP', start=\"2015-12-30\", end= \"2022-08-12\" )['Adj Close']\n",
    "\n",
    "retornos_ibovespa = ibovespa.resample(\"M\").last().pct_change().dropna()\n",
    "\n",
    "display(retornos_ibovespa)"
   ]
  },
  {
   "cell_type": "code",
   "execution_count": null,
   "metadata": {
    "colab": {
     "base_uri": "https://localhost:8080/",
     "height": 1000
    },
    "executionInfo": {
     "elapsed": 287,
     "status": "ok",
     "timestamp": 1660417377603,
     "user": {
      "displayName": "Brenno Sullivan",
      "userId": "01078816714846686035"
     },
     "user_tz": 180
    },
    "id": "ijYV-xQNy0rL",
    "outputId": "9d2246e7-db56-4be3-e7f3-2e61dccd654a"
   },
   "outputs": [],
   "source": [
    "retornos_modelo['ibovespa'] = retornos_ibovespa.values\n",
    "\n",
    "retornos_modelo.style.format({\n",
    "    'retorno': '{:,.2%}'.format,\n",
    "    'ibovespa': '{:,.2%}'.format\n",
    "})"
   ]
  },
  {
   "cell_type": "code",
   "execution_count": null,
   "metadata": {
    "colab": {
     "base_uri": "https://localhost:8080/",
     "height": 726
    },
    "executionInfo": {
     "elapsed": 9393,
     "status": "ok",
     "timestamp": 1660417390336,
     "user": {
      "displayName": "Brenno Sullivan",
      "userId": "01078816714846686035"
     },
     "user_tz": 180
    },
    "id": "HMolac0Nmekk",
    "outputId": "7bd61156-7a64-45ff-8aa9-8946decde312"
   },
   "outputs": [],
   "source": [
    "qs.extend_pandas()\n",
    "\n",
    "retornos_modelo['retorno'].plot_monthly_heatmap()\n",
    "\n",
    "retornos_modelo['ibovespa'].plot_monthly_heatmap()\n",
    "\n",
    "#olha pra mim agora: se você chegar em alguma empresa do mercado financeiro, ou tem vontade de trabalhar como analista, existe alguma chance de você chegar \n",
    "#na entrevista de emprego com esse conhecimento em Python e você não passar? Você sabendo programar um modelo desse, com uma boa visualização de dados, você\n",
    "#passa pra qualquer lugar. "
   ]
  },
  {
   "cell_type": "code",
   "execution_count": null,
   "metadata": {
    "colab": {
     "base_uri": "https://localhost:8080/",
     "height": 363
    },
    "executionInfo": {
     "elapsed": 1328,
     "status": "ok",
     "timestamp": 1660417398520,
     "user": {
      "displayName": "Brenno Sullivan",
      "userId": "01078816714846686035"
     },
     "user_tz": 180
    },
    "id": "NY96ICDVwyMU",
    "outputId": "3481630a-dd5e-4ffb-e542-4612274870a0"
   },
   "outputs": [],
   "source": [
    "serie_long_short = retornos_modelo['retorno'] - retornos_modelo['ibovespa']\n",
    "\n",
    "serie_long_short.plot_monthly_heatmap()"
   ]
  },
  {
   "cell_type": "code",
   "execution_count": null,
   "metadata": {
    "colab": {
     "base_uri": "https://localhost:8080/"
    },
    "executionInfo": {
     "elapsed": 259,
     "status": "ok",
     "timestamp": 1660417401961,
     "user": {
      "displayName": "Brenno Sullivan",
      "userId": "01078816714846686035"
     },
     "user_tz": 180
    },
    "id": "ASXLNsCLvUB4",
    "outputId": "96368216-73a5-46ee-a9df-0ace5e0c7227"
   },
   "outputs": [],
   "source": [
    "#meses batendo o mercado \n",
    "\n",
    "retornos_modelo_bateu_mercado = retornos_modelo.copy()\n",
    "\n",
    "retornos_modelo_bateu_mercado['bateu_mercado'] = retornos_modelo['retorno'] > retornos_modelo['ibovespa']\n",
    "\n",
    "print(retornos_modelo_bateu_mercado)\n",
    "\n",
    "proporcao_meses_bateu_o_mercado = sum(retornos_modelo_bateu_mercado['bateu_mercado']/len(retornos_modelo_bateu_mercado['bateu_mercado']))\n",
    "print(proporcao_meses_bateu_o_mercado)"
   ]
  },
  {
   "cell_type": "code",
   "execution_count": null,
   "metadata": {
    "colab": {
     "base_uri": "https://localhost:8080/",
     "height": 269
    },
    "executionInfo": {
     "elapsed": 265,
     "status": "ok",
     "timestamp": 1660417404733,
     "user": {
      "displayName": "Brenno Sullivan",
      "userId": "01078816714846686035"
     },
     "user_tz": 180
    },
    "id": "2f0_HnkunVma",
    "outputId": "cb429c20-99fe-4662-d9b3-987ddf863039"
   },
   "outputs": [],
   "source": [
    "#retorno anual\n",
    "\n",
    "retorno_anual = retornos_modelo.copy()\n",
    "retorno_anual['retorno'] = retorno_anual['retorno'] + 1 \n",
    "retorno_anual['ibovespa'] = retorno_anual['ibovespa'] + 1\n",
    "\n",
    "retorno_anual[\"ano\"] = retorno_anual.index.year\n",
    "\n",
    "retorno_anual[\"retorno_acumulado_ano\"] = retorno_anual.groupby('ano')['retorno'].cumprod() - 1\n",
    "retorno_anual[\"retorno_acumulado_ibov\"] = retorno_anual.groupby('ano')['ibovespa'].cumprod() - 1\n",
    "\n",
    "retorno_anual = retorno_anual.reset_index()\n",
    "\n",
    "retorno_anual = (retorno_anual.groupby(['ano']).tail(1))[['ano', 'retorno_acumulado_ano', 'retorno_acumulado_ibov']]\n",
    "\n",
    "retorno_anual.style.format({\n",
    "    'retorno_acumulado_ano': '{:,.2%}'.format,\n",
    "    'retorno_acumulado_ibov': '{:,.2%}'.format})\n"
   ]
  },
  {
   "cell_type": "code",
   "execution_count": null,
   "metadata": {
    "colab": {
     "base_uri": "https://localhost:8080/",
     "height": 269
    },
    "executionInfo": {
     "elapsed": 291,
     "status": "ok",
     "timestamp": 1660417412057,
     "user": {
      "displayName": "Brenno Sullivan",
      "userId": "01078816714846686035"
     },
     "user_tz": 180
    },
    "id": "a05FIfatR7PS",
    "outputId": "33c0f306-ab6c-4189-a77c-906d4900cb36"
   },
   "outputs": [],
   "source": [
    "cumulative_ret_modelo = (retornos_modelo.retorno + 1).cumprod() - 1\n",
    "\n",
    "cumulative_ret_ibov = (retornos_modelo.ibovespa + 1).cumprod() - 1\n",
    "\n",
    "df_acumulado = pd.DataFrame(data = {\"retorno_acum_modelo\": cumulative_ret_modelo, \"retorno_acum_ibov\" : cumulative_ret_ibov }, index = cumulative_ret_ibov.index)\n",
    "\n",
    "df_acumulado = df_acumulado.resample(\"Y\").last()\n",
    "\n",
    "df_acumulado = df_acumulado[['retorno_acum_modelo', 'retorno_acum_ibov']]\n",
    "\n",
    "df_acumulado.style.format({\n",
    "    'retorno_acum_modelo': '{:,.2%}'.format,\n",
    "    'retorno_acum_ibov': '{:,.2%}'.format\n",
    "})"
   ]
  },
  {
   "cell_type": "code",
   "execution_count": null,
   "metadata": {
    "colab": {
     "base_uri": "https://localhost:8080/",
     "height": 397
    },
    "executionInfo": {
     "elapsed": 4,
     "status": "ok",
     "timestamp": 1660344757137,
     "user": {
      "displayName": "Brenno Sullivan",
      "userId": "01078816714846686035"
     },
     "user_tz": 180
    },
    "id": "LvT7izMXR7sp",
    "outputId": "cb1dea44-cd84-4009-fdb7-432c788ff49e"
   },
   "outputs": [],
   "source": [
    "df_acumulado.plot()"
   ]
  }
 ],
 "metadata": {
  "colab": {
   "authorship_tag": "ABX9TyNIE6j5nNSzyEmA8LoQixov",
   "collapsed_sections": [],
   "provenance": []
  },
  "kernelspec": {
   "display_name": "Python 3.10.7 ('env': venv)",
   "language": "python",
   "name": "python3"
  },
  "language_info": {
   "codemirror_mode": {
    "name": "ipython",
    "version": 3
   },
   "file_extension": ".py",
   "mimetype": "text/x-python",
   "name": "python",
   "nbconvert_exporter": "python",
   "pygments_lexer": "ipython3",
   "version": "3.10.7"
  },
  "vscode": {
   "interpreter": {
    "hash": "4e8bd7d5b9f5e9d223de3c81c3a92614f4f745848af42de410fe91018c0879b4"
   }
  }
 },
 "nbformat": 4,
 "nbformat_minor": 1
}
