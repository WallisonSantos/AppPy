{
 "cells": [
  {
   "cell_type": "code",
   "execution_count": null,
   "metadata": {},
   "outputs": [],
   "source": [
    "import time\n",
    "from datetime import datetime, timedelta\n",
    "\n",
    "import numpy as np\n",
    "import mplcyberpunk\n",
    "import matplotlib.pyplot as plt\n",
    "from pandas_datareader import data as pdr\n",
    "from bcb import sgs\n",
    "\n",
    "#\n",
    "print(\"# Análises financeiras\")\n"
   ]
  },
  {
   "cell_type": "code",
   "execution_count": null,
   "metadata": {},
   "outputs": [],
   "source": [
    "# # selic = sgs.get(('selic', 432), start = '2022-10-01')\n",
    "# # selic.plot(figsize = (15, 10))\n",
    "# # volatilidade_12m_ibov.plot(figsize = (15, 10))\n",
    "# # plt.title(\"Dados Ibovespa e S&P500\")\n",
    "#\n",
    "#\n",
    "# # Pegando dados do yahoo finance.\n",
    "#\n",
    "indices = ['^BVSP', '^GSPC']\n",
    "hoje = datetime.now()\n",
    "um_ano_atras = hoje - timedelta(days = 366)\n",
    "dados_mercado = pdr.get_data_yahoo(indices, start = um_ano_atras, end = hoje)\n",
    "#\n",
    "#\n",
    "# # Pegando fechamento de cada ativo\n",
    "#\n",
    "dados_fechamento = dados_mercado['Adj Close']\n",
    "dados_fechamento.columns = [\"Ibov\", \"S&P500\"]\n",
    "dados_fechamento = dados_fechamento.dropna()\n",
    "#\n",
    "#\n",
    "# # Pegando fechamento mensal e anual para calcular rentabilidades\n",
    "#\n",
    "dados_anuais = dados_fechamento.resample(\"Y\").last()\n",
    "dados_mensais = dados_fechamento.resample(\"M\").last()\n",
    "#\n",
    "#\n",
    "# # Calculando rentabilidades\n",
    "#\n",
    "retorno_diario = dados_fechamento.pct_change().dropna()\n",
    "retorno_mes_a_mes = dados_mensais.pct_change().dropna()\n",
    "retorno_mes_a_mes = retorno_mes_a_mes.iloc[1: , :]\n",
    "retorno_no_ano = dados_anuais.pct_change().dropna()\n",
    "#\n",
    "#\n",
    "# # Fechamento de dia\n",
    "#\n",
    "fechamento_de_dia = retorno_diario.iloc[-1, :]\n",
    "#\n",
    "#\n",
    "# # Volatilidade ibov e S&P500\n",
    "#\n",
    "volatilidade_12m_ibov = retorno_diario['Ibov'].std() * np.sqrt(252)\n",
    "volatilidade_12m_sp = retorno_diario['S&P500'].std() * np.sqrt(252)"
   ]
  },
  {
   "cell_type": "code",
   "execution_count": null,
   "metadata": {},
   "outputs": [],
   "source": [
    "# # Volatilidade ibov\n",
    "#\n",
    "fig, ax = plt.subplots()\n",
    "plt.style.use(\"cyberpunk\")\n",
    "ax.plot(dados_fechamento.index, dados_fechamento['Ibov'])\n",
    "ax.grid(False)\n",
    "plt.savefig('ibov.png', dpi = 300)"
   ]
  },
  {
   "cell_type": "code",
   "execution_count": null,
   "metadata": {},
   "outputs": [],
   "source": [
    "# # Volatilidade S&P500\n",
    "#\n",
    "fig, ax = plt.subplots()\n",
    "plt.style.use(\"cyberpunk\")\n",
    "ax.plot(dados_fechamento.index, dados_fechamento['S&P500'])\n",
    "ax.grid(False)\n",
    "plt.savefig('sp.png', dpi = 300)"
   ]
  },
  {
   "cell_type": "code",
   "execution_count": 23,
   "metadata": {},
   "outputs": [],
   "source": [
    "# # Pegando os dias úteis com base nas datas de fechamento Ibov vs. S&P500\n",
    "#\n",
    "data_inicial = dados_fechamento.index[0]\n",
    "#\n",
    "# Timestamp('2021-10-20 00:00:00')\n",
    "#\n",
    "if datetime.now().hour < 10:\n",
    "    data_final = dados_fechamento.index[-1]\n",
    "else:\n",
    "    data_final = dados_fechamento.index[-2]\n",
    "#\n",
    "# Timestamp('2022-10-19 00:00:00')\n",
    "#\n",
    "data_inicial = data_inicial.strftime(\"%d/%m/%Y\")\n",
    "data_final = data_final.strftime(\"%d/%m/%Y\")"
   ]
  },
  {
   "cell_type": "code",
   "execution_count": 24,
   "metadata": {},
   "outputs": [
    {
     "data": {
      "text/plain": [
       "'http://www2.bmf.com.br/pages/portal/bmfbovespa/boletim1/SistemaPregao1.asp?\\npagetype=pop&caminho=Resumo%20Estat%EDstico%20-%20Sistema%20Preg%E3o&Data=20/10/2021\\n&Mercadoria=DI1'"
      ]
     },
     "metadata": {},
     "output_type": "display_data"
    }
   ],
   "source": [
    "url_mais_att = f'''http://www2.bmf.com.br/pages/portal/bmfbovespa/boletim1/SistemaPregao1.asp?\n",
    "pagetype=pop&caminho=Resumo%20Estat%EDstico%20-%20Sistema%20Preg%E3o&Data={data_final}\n",
    "&Mercadoria=DI1'''\n",
    "\n",
    "url_mais_antiga = f'''http://www2.bmf.com.br/pages/portal/bmfbovespa/boletim1/SistemaPregao1.asp?\n",
    "pagetype=pop&caminho=Resumo%20Estat%EDstico%20-%20Sistema%20Preg%E3o&Data={data_inicial}\n",
    "&Mercadoria=DI1'''\n",
    "\n",
    "display(url_mais_antiga)"
   ]
  }
 ],
 "metadata": {
  "kernelspec": {
   "display_name": "Python 3.10.6 ('venv': venv)",
   "language": "python",
   "name": "python3"
  },
  "language_info": {
   "codemirror_mode": {
    "name": "ipython",
    "version": 3
   },
   "file_extension": ".py",
   "mimetype": "text/x-python",
   "name": "python",
   "nbconvert_exporter": "python",
   "pygments_lexer": "ipython3",
   "version": "3.10.6"
  },
  "orig_nbformat": 4,
  "vscode": {
   "interpreter": {
    "hash": "b30980f760532b1124c5b1fea1ed251d0948c85b3648abacd9c607f0daf3525e"
   }
  }
 },
 "nbformat": 4,
 "nbformat_minor": 2
}
